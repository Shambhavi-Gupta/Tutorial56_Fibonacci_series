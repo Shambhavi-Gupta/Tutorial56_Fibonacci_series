{
  "nbformat": 4,
  "nbformat_minor": 0,
  "metadata": {
    "colab": {
      "name": "Tutorial56_Fibonacci_series.ipynb",
      "provenance": [],
      "authorship_tag": "ABX9TyPgGpfVPpcoBXEAwTbiwKEz",
      "include_colab_link": true
    },
    "kernelspec": {
      "name": "python3",
      "display_name": "Python 3"
    }
  },
  "cells": [
    {
      "cell_type": "markdown",
      "metadata": {
        "id": "view-in-github",
        "colab_type": "text"
      },
      "source": [
        "<a href=\"https://colab.research.google.com/github/Shambhavi-Gupta/Tutorial56_Fibonacci_series/blob/main/Tutorial56_Fibonacci_series.ipynb\" target=\"_parent\"><img src=\"https://colab.research.google.com/assets/colab-badge.svg\" alt=\"Open In Colab\"/></a>"
      ]
    },
    {
      "cell_type": "code",
      "metadata": {
        "id": "lklqz7Uos9J2"
      },
      "source": [
        "import time\r\n",
        "def RecurFibo(n):\r\n",
        "    if n==0:\r\n",
        "        return 0\r\n",
        "    elif n==1:\r\n",
        "        return 1\r\n",
        "    else:\r\n",
        "        return RecurFibo(n-1)+RecurFibo(n-2)\r\n",
        "\r\n",
        "def IterFibo(n):\r\n",
        "    prev = 0\r\n",
        "    curr = 1\r\n",
        "    for i in range(1,n):\r\n",
        "        oneprev = prev\r\n",
        "        prev = curr\r\n",
        "        curr = prev + oneprev\r\n",
        "    return curr\r\n",
        "\r\n",
        "if __name__ == '__main__':\r\n",
        "    num = int(input(\"Enter a number\"))\r\n",
        "    init = time.time()\r\n",
        "    #print(f\"Using recursion value on {num}\"\r\n",
        "     #     f\" is {RecurFibo(num)}\")\r\n",
        "    print(f\"Using iterative value on {num}\"\r\n",
        "         f\" is {IterFibo(num)}\")\r\n",
        "    print(f\"it took {time.time()-init} seconds\")"
      ],
      "execution_count": null,
      "outputs": []
    }
  ]
}